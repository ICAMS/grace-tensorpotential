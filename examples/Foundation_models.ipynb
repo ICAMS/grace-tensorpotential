{
 "cells": [
  {
   "cell_type": "code",
   "execution_count": 1,
   "id": "e198e9b6",
   "metadata": {},
   "outputs": [
    {
     "name": "stdout",
     "output_type": "stream",
     "text": [
      "%pylab is deprecated, use %matplotlib inline and import the required libraries.\n",
      "Populating the interactive namespace from numpy and matplotlib\n"
     ]
    }
   ],
   "source": [
    "%pylab inline"
   ]
  },
  {
   "cell_type": "code",
   "execution_count": 2,
   "id": "496e79cd",
   "metadata": {},
   "outputs": [],
   "source": [
    "import pandas as pd"
   ]
  },
  {
   "cell_type": "code",
   "execution_count": 3,
   "id": "1dac207e",
   "metadata": {},
   "outputs": [],
   "source": [
    "from ase.build import bulk, molecule"
   ]
  },
  {
   "cell_type": "code",
   "execution_count": 4,
   "id": "68e8bfc3",
   "metadata": {},
   "outputs": [
    {
     "name": "stderr",
     "output_type": "stream",
     "text": [
      "2024-08-29 13:58:33.389854: I tensorflow/core/util/port.cc:113] oneDNN custom operations are on. You may see slightly different numerical results due to floating-point round-off errors from different computation orders. To turn them off, set the environment variable `TF_ENABLE_ONEDNN_OPTS=0`.\n",
      "2024-08-29 13:58:33.421122: E external/local_xla/xla/stream_executor/cuda/cuda_dnn.cc:9261] Unable to register cuDNN factory: Attempting to register factory for plugin cuDNN when one has already been registered\n",
      "2024-08-29 13:58:33.421141: E external/local_xla/xla/stream_executor/cuda/cuda_fft.cc:607] Unable to register cuFFT factory: Attempting to register factory for plugin cuFFT when one has already been registered\n",
      "2024-08-29 13:58:33.421872: E external/local_xla/xla/stream_executor/cuda/cuda_blas.cc:1515] Unable to register cuBLAS factory: Attempting to register factory for plugin cuBLAS when one has already been registered\n",
      "2024-08-29 13:58:33.426585: I tensorflow/core/platform/cpu_feature_guard.cc:182] This TensorFlow binary is optimized to use available CPU instructions in performance-critical operations.\n",
      "To enable the following instructions: AVX2 AVX512F AVX512_VNNI FMA, in other operations, rebuild TensorFlow with the appropriate compiler flags.\n",
      "2024-08-29 13:58:35.360898: W tensorflow/compiler/tf2tensorrt/utils/py_utils.cc:38] TF-TRT Warning: Could not find TensorRT\n"
     ]
    }
   ],
   "source": [
    "from tensorpotential.calculator import grace_fm"
   ]
  },
  {
   "cell_type": "markdown",
   "id": "9a366bf2",
   "metadata": {},
   "source": [
    "# GRACE 1Layer, trained on MPTraj"
   ]
  },
  {
   "cell_type": "code",
   "execution_count": 5,
   "id": "0aeb7105",
   "metadata": {},
   "outputs": [
    {
     "name": "stdout",
     "output_type": "stream",
     "text": [
      "Downloading GRACE models from 'https://ruhr-uni-bochum.sciebo.de/s/pS62iMsFZuFrI5K/download'\n",
      "Unpacking model from 'https://ruhr-uni-bochum.sciebo.de/s/pS62iMsFZuFrI5K/download'\n",
      "GRACE model downloaded to cache /home/users/lysogy36/.cache/grace/train_1.5M_test_75_grace_1layer_v2_7Aug2024\n"
     ]
    },
    {
     "name": "stderr",
     "output_type": "stream",
     "text": [
      "2024-08-29 13:58:39.962370: W tensorflow/core/common_runtime/gpu/gpu_bfc_allocator.cc:47] Overriding orig_value setting because the TF_FORCE_GPU_ALLOW_GROWTH environment variable is set. Original config value was 0.\n",
      "2024-08-29 13:58:39.962520: I tensorflow/core/common_runtime/gpu/gpu_device.cc:1929] Created device /job:localhost/replica:0/task:0/device:GPU:0 with 6013 MB memory:  -> device: 0, name: NVIDIA GeForce RTX 3060, pci bus id: 0000:b3:00.0, compute capability: 8.6\n"
     ]
    }
   ],
   "source": [
    "calc=grace_fm('mp-1layer')"
   ]
  },
  {
   "cell_type": "code",
   "execution_count": 6,
   "id": "01590403",
   "metadata": {},
   "outputs": [],
   "source": [
    "at=bulk(\"W\", cubic=True)*(2,2,2)\n",
    "at.rattle(stdev=0.1,seed=42)"
   ]
  },
  {
   "cell_type": "code",
   "execution_count": 7,
   "id": "632adb07",
   "metadata": {},
   "outputs": [],
   "source": [
    "at.calc=calc"
   ]
  },
  {
   "cell_type": "code",
   "execution_count": 8,
   "id": "1e5be719",
   "metadata": {},
   "outputs": [
    {
     "name": "stderr",
     "output_type": "stream",
     "text": [
      "2024-08-29 13:58:46.815787: I external/local_xla/xla/service/service.cc:168] XLA service 0x55aae7f3efc0 initialized for platform CUDA (this does not guarantee that XLA will be used). Devices:\n",
      "2024-08-29 13:58:46.815812: I external/local_xla/xla/service/service.cc:176]   StreamExecutor device (0): NVIDIA GeForce RTX 3060, Compute Capability 8.6\n",
      "2024-08-29 13:58:46.949487: I tensorflow/compiler/mlir/tensorflow/utils/dump_mlir_util.cc:269] disabling MLIR crash reproducer, set env var `MLIR_CRASH_REPRODUCER_DIRECTORY` to enable.\n",
      "2024-08-29 13:58:47.242391: I external/local_xla/xla/stream_executor/cuda/cuda_dnn.cc:454] Loaded cuDNN version 8904\n",
      "WARNING: All log messages before absl::InitializeLog() is called are written to STDERR\n",
      "I0000 00:00:1724932728.746330  309358 device_compiler.h:186] Compiled cluster using XLA!  This line is logged at most once for the lifetime of the process.\n"
     ]
    },
    {
     "data": {
      "text/plain": [
       "-203.6953709005062"
      ]
     },
     "execution_count": 8,
     "metadata": {},
     "output_type": "execute_result"
    }
   ],
   "source": [
    "at.get_potential_energy()"
   ]
  },
  {
   "cell_type": "code",
   "execution_count": 9,
   "id": "d66220dd",
   "metadata": {},
   "outputs": [
    {
     "data": {
      "text/plain": [
       "-12.730960681281637"
      ]
     },
     "execution_count": 9,
     "metadata": {},
     "output_type": "execute_result"
    }
   ],
   "source": [
    "at.get_potential_energy()/len(at)"
   ]
  },
  {
   "cell_type": "code",
   "execution_count": 10,
   "id": "92bde4d5",
   "metadata": {},
   "outputs": [
    {
     "data": {
      "text/plain": [
       "array([[-0.40107925, -0.87666629, -1.63654624],\n",
       "       [-2.68783278,  0.62777748, -1.21472907],\n",
       "       [-2.71017788, -1.5443394 ,  0.93744367],\n",
       "       [-1.63095362,  0.8207762 ,  0.40962097],\n",
       "       [ 0.12090828,  1.73719747,  2.90585237],\n",
       "       [ 0.47027142, -0.17835377, -1.63260866],\n",
       "       [ 1.16832945,  2.38531608, -3.31014411],\n",
       "       [-0.00658969, -0.78154194,  1.64757991],\n",
       "       [ 0.85974993, -2.15433467,  1.41373559],\n",
       "       [ 0.82760524,  0.78313186, -0.80345772],\n",
       "       [ 2.39880853, -4.18871359, -1.0931945 ],\n",
       "       [ 1.64269048, -3.07545813,  1.15135771],\n",
       "       [-0.49651851,  3.49979599,  1.65740823],\n",
       "       [-0.42226905, -1.17572747,  0.41673114],\n",
       "       [ 0.23308646,  2.44678172,  0.53168335],\n",
       "       [ 0.63397097,  1.67435848, -1.38073264]])"
      ]
     },
     "execution_count": 10,
     "metadata": {},
     "output_type": "execute_result"
    }
   ],
   "source": [
    "at.get_forces()"
   ]
  },
  {
   "cell_type": "code",
   "execution_count": null,
   "id": "e23d41b2",
   "metadata": {},
   "outputs": [],
   "source": []
  },
  {
   "cell_type": "markdown",
   "id": "84404f21",
   "metadata": {},
   "source": [
    "# GRACE 2Layer, trained on MPTraj"
   ]
  },
  {
   "cell_type": "code",
   "execution_count": 25,
   "id": "468c2449",
   "metadata": {},
   "outputs": [
    {
     "name": "stdout",
     "output_type": "stream",
     "text": [
      "Using cached GRACE model from /home/users/lysogy36/.cache/grace/train_1.5M_test_75_grace_2layer_8Aug2024\n"
     ]
    }
   ],
   "source": [
    "calc=grace_fm('mp-2layer')"
   ]
  },
  {
   "cell_type": "code",
   "execution_count": 26,
   "id": "5564ee95",
   "metadata": {},
   "outputs": [],
   "source": [
    "at=bulk(\"W\", cubic=True)*(2,2,2)\n",
    "at.rattle(stdev=0.1,seed=42)"
   ]
  },
  {
   "cell_type": "code",
   "execution_count": 27,
   "id": "e69288bf",
   "metadata": {},
   "outputs": [],
   "source": [
    "at.calc=calc"
   ]
  },
  {
   "cell_type": "code",
   "execution_count": 28,
   "id": "46182c11",
   "metadata": {},
   "outputs": [
    {
     "data": {
      "text/plain": [
       "-202.83648208988774"
      ]
     },
     "execution_count": 28,
     "metadata": {},
     "output_type": "execute_result"
    }
   ],
   "source": [
    "at.get_potential_energy()"
   ]
  },
  {
   "cell_type": "code",
   "execution_count": 29,
   "id": "1936b9cc",
   "metadata": {},
   "outputs": [
    {
     "data": {
      "text/plain": [
       "-12.677280130617984"
      ]
     },
     "execution_count": 29,
     "metadata": {},
     "output_type": "execute_result"
    }
   ],
   "source": [
    "at.get_potential_energy()/len(at)"
   ]
  },
  {
   "cell_type": "code",
   "execution_count": 30,
   "id": "f9af227e",
   "metadata": {},
   "outputs": [
    {
     "data": {
      "text/plain": [
       "array([[-0.64002815, -1.00923996, -1.30852433],\n",
       "       [-2.35711525,  0.26745334, -0.93189383],\n",
       "       [-2.42837861, -1.76370667,  0.51223984],\n",
       "       [-1.47540563,  0.62702095,  0.41164886],\n",
       "       [-0.15611018,  1.93795173,  2.47090327],\n",
       "       [ 0.29807536,  0.27858892, -1.40595349],\n",
       "       [ 1.06912831,  2.45232653, -3.07413228],\n",
       "       [ 0.02433299, -0.63056359,  1.47517614],\n",
       "       [ 0.85714449, -1.99769079,  1.5520372 ],\n",
       "       [ 0.573149  ,  0.70904451, -0.84734021],\n",
       "       [ 2.11607014, -3.85078829, -1.20320835],\n",
       "       [ 1.5720387 , -2.69098457,  1.34388713],\n",
       "       [-0.19671989,  3.28314407,  1.48860487],\n",
       "       [-0.32386594, -0.98070833,  0.01031758],\n",
       "       [ 0.29367618,  2.10530044,  0.62781647],\n",
       "       [ 0.77400849,  1.26285169, -1.12157887]])"
      ]
     },
     "execution_count": 30,
     "metadata": {},
     "output_type": "execute_result"
    }
   ],
   "source": [
    "at.get_forces()"
   ]
  },
  {
   "cell_type": "code",
   "execution_count": null,
   "id": "8a998438",
   "metadata": {},
   "outputs": [],
   "source": []
  },
  {
   "cell_type": "code",
   "execution_count": null,
   "id": "be7a523d",
   "metadata": {},
   "outputs": [],
   "source": []
  }
 ],
 "metadata": {
  "kernelspec": {
   "display_name": "ace2",
   "language": "python",
   "name": "ace2"
  },
  "language_info": {
   "codemirror_mode": {
    "name": "ipython",
    "version": 3
   },
   "file_extension": ".py",
   "mimetype": "text/x-python",
   "name": "python",
   "nbconvert_exporter": "python",
   "pygments_lexer": "ipython3",
   "version": "3.9.0"
  }
 },
 "nbformat": 4,
 "nbformat_minor": 5
}
